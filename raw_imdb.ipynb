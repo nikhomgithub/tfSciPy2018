{
  "nbformat": 4,
  "nbformat_minor": 0,
  "metadata": {
    "colab": {
      "name": "Untitled16.ipynb",
      "version": "0.3.2",
      "provenance": [],
      "include_colab_link": true
    },
    "kernelspec": {
      "name": "python3",
      "display_name": "Python 3"
    },
    "accelerator": "GPU"
  },
  "cells": [
    {
      "cell_type": "markdown",
      "metadata": {
        "id": "view-in-github",
        "colab_type": "text"
      },
      "source": [
        "<a href=\"https://colab.research.google.com/github/nikhomgithub/tfSciPy2018/blob/master/raw_imdb.ipynb\" target=\"_parent\"><img src=\"https://colab.research.google.com/assets/colab-badge.svg\" alt=\"Open In Colab\"/></a>"
      ]
    },
    {
      "cell_type": "code",
      "metadata": {
        "id": "0ReyvBgg13mn",
        "colab_type": "code",
        "colab": {
          "base_uri": "https://localhost:8080/",
          "height": 204
        },
        "outputId": "f9cf0cb2-9446-4feb-abe6-8772ae0db4fc"
      },
      "source": [
        "!wget http://ai.stanford.edu/~amaas/data/sentiment/aclImdb_v1.tar.gz\n",
        "  "
      ],
      "execution_count": 3,
      "outputs": [
        {
          "output_type": "stream",
          "text": [
            "--2019-09-14 08:20:11--  http://ai.stanford.edu/~amaas/data/sentiment/aclImdb_v1.tar.gz\n",
            "Resolving ai.stanford.edu (ai.stanford.edu)... 171.64.68.10\n",
            "Connecting to ai.stanford.edu (ai.stanford.edu)|171.64.68.10|:80... connected.\n",
            "HTTP request sent, awaiting response... 200 OK\n",
            "Length: 84125825 (80M) [application/x-gzip]\n",
            "Saving to: ‘aclImdb_v1.tar.gz’\n",
            "\n",
            "aclImdb_v1.tar.gz   100%[===================>]  80.23M  19.5MB/s    in 6.6s    \n",
            "\n",
            "2019-09-14 08:20:18 (12.2 MB/s) - ‘aclImdb_v1.tar.gz’ saved [84125825/84125825]\n",
            "\n"
          ],
          "name": "stdout"
        }
      ]
    },
    {
      "cell_type": "markdown",
      "metadata": {
        "id": "g9RqVD2PDZz4",
        "colab_type": "text"
      },
      "source": [
        "https://github.com/the-computer-scientist/IMDBSentimentInTensorflow/blob/master/IMDBSentiment.ipynb"
      ]
    },
    {
      "cell_type": "code",
      "metadata": {
        "id": "mubyBRVR2qnS",
        "colab_type": "code",
        "colab": {
          "base_uri": "https://localhost:8080/",
          "height": 153
        },
        "outputId": "f31c1a58-8e00-43f8-d569-12024afdee31"
      },
      "source": [
        "!ls -alh\n"
      ],
      "execution_count": 39,
      "outputs": [
        {
          "output_type": "stream",
          "text": [
            "total 994M\n",
            "drwxr-xr-x 1 root root 4.0K Sep 14 09:19 .\n",
            "drwxr-xr-x 1 root root 4.0K Sep 14 07:27 ..\n",
            "-rw-r--r-- 1 root root  81M Jun 26  2011 aclImdb_v1.tar.gz\n",
            "drwxr-xr-x 1 root root 4.0K Sep  9 16:05 .config\n",
            "-rw-r--r-- 1 root root  92M Sep 14 09:19 glove.6B.50d.txt\n",
            "-rw-r--r-- 1 root root 823M Sep 14 09:19 glove.6B.zip\n",
            "drwxr-xr-x 1 root root 4.0K Aug 27 16:17 sample_data\n"
          ],
          "name": "stdout"
        }
      ]
    },
    {
      "cell_type": "code",
      "metadata": {
        "id": "i_rx7lem3KOw",
        "colab_type": "code",
        "colab": {
          "base_uri": "https://localhost:8080/",
          "height": 34
        },
        "outputId": "cc0435bb-8015-4e50-ec97-170dd2a42795"
      },
      "source": [
        "!mkdir /tmp"
      ],
      "execution_count": 5,
      "outputs": [
        {
          "output_type": "stream",
          "text": [
            "mkdir: cannot create directory ‘/tmp’: File exists\n"
          ],
          "name": "stdout"
        }
      ]
    },
    {
      "cell_type": "code",
      "metadata": {
        "id": "FEUdxgFq5A65",
        "colab_type": "code",
        "colab": {}
      },
      "source": [
        "!tar -xvzf aclImdb_v1.tar.gz -C /tmp"
      ],
      "execution_count": 0,
      "outputs": []
    },
    {
      "cell_type": "code",
      "metadata": {
        "id": "bglSoGju5EZH",
        "colab_type": "code",
        "colab": {
          "base_uri": "https://localhost:8080/",
          "height": 34
        },
        "outputId": "a0957c4f-5c87-47fa-fdce-69dab3fd9cb8"
      },
      "source": [
        "!ls /tmp/aclImdb"
      ],
      "execution_count": 34,
      "outputs": [
        {
          "output_type": "stream",
          "text": [
            "imdbEr.txt  imdb.vocab\tREADME\ttest  train\n"
          ],
          "name": "stdout"
        }
      ]
    },
    {
      "cell_type": "code",
      "metadata": {
        "id": "6Y4AQc2i7nEF",
        "colab_type": "code",
        "colab": {
          "base_uri": "https://localhost:8080/",
          "height": 51
        },
        "outputId": "2a666ca0-8f59-4c81-b47c-c8c7ea31baab"
      },
      "source": [
        "!ls /tmp/aclImdb/train"
      ],
      "execution_count": 35,
      "outputs": [
        {
          "output_type": "stream",
          "text": [
            "labeledBow.feat  pos\tunsupBow.feat  urls_pos.txt\n",
            "neg\t\t unsup\turls_neg.txt   urls_unsup.txt\n"
          ],
          "name": "stdout"
        }
      ]
    },
    {
      "cell_type": "code",
      "metadata": {
        "id": "oEzanURP5Z08",
        "colab_type": "code",
        "colab": {
          "base_uri": "https://localhost:8080/",
          "height": 54
        },
        "outputId": "8179ad75-fca1-4b8c-e1c2-6d4d7663c387"
      },
      "source": [
        "!cat /tmp/aclImdb/train/pos/2438_9.txt "
      ],
      "execution_count": 18,
      "outputs": [
        {
          "output_type": "stream",
          "text": [
            "This was a gem. Amazing acting from the leads Liam Cunningham, Orla Brady and all the supporting cast. The movie raises a subject not only pertinent to Ireland and Irish history but to many communities around the world and many marriage units within those communities. With intensity and sincerity the movie shows how the religious convictions and traditions drove a wedge on a loving and passionate family. The title \"Love divided\" couldn't capture it any better. Even though it was a true story and happening in Ireland of the 50th seeing how the life of the whole village erodes and \"pogroms\" are starting reminded me of Russian history. The intolerance and prejudice are still too powerful in the world and unfortunately it's deeply hidden inside the human nature. Just like in the movie the Liam Cunningham's character says \"the hatred had always been there under the surface\". It was interesting to watch the moral choices people were making in this story. Also the character of a catholic priest and what happened to him in the end of the story was quite meaningful. The story however gives hope that love of two people can conquer everything and love makes us better, stronger. Liam Cunningham's character goes through the whole transformation in the course of the story becoming a man he always wanted to be. Again acting is a top notch. Story is fast-paced. Irish countryside is as beautiful as ever. Highly recommended."
          ],
          "name": "stdout"
        }
      ]
    },
    {
      "cell_type": "code",
      "metadata": {
        "id": "1voGP14eDfcC",
        "colab_type": "code",
        "colab": {}
      },
      "source": [
        "import numpy as np\n",
        "import re\n",
        "import os\n",
        "\n",
        "imdb_folder='/tmp/aclImdb/'\n",
        "\n",
        "def get_reviews(data_folder=\"/train\"):\n",
        "    reviews = []\n",
        "    labels = []\n",
        "    for index,sentiment in enumerate([\"/neg/\", \"/pos/\"]):\n",
        "        path = imdb_folder + data_folder + sentiment\n",
        "        for filename in sorted(os.listdir(path)):\n",
        "            with open(path + filename, 'r') as f:\n",
        "                review = f.read()\n",
        "                review = review.lower()\n",
        "                review = review.replace(\"<br />\", \" \")\n",
        "                review = re.sub(r\"[^a-z ]\", \" \", review)\n",
        "                review = re.sub(r\" +\", \" \", review)\n",
        "                review = review.split(\" \")\n",
        "                reviews.append(review)\n",
        "                \n",
        "                label = [0, 0]\n",
        "                label[index] = 1\n",
        "                labels.append(label)\n",
        "                \n",
        "    return reviews, np.array(labels)"
      ],
      "execution_count": 0,
      "outputs": []
    },
    {
      "cell_type": "code",
      "metadata": {
        "id": "O55wWxVHD0l0",
        "colab_type": "code",
        "colab": {
          "base_uri": "https://localhost:8080/",
          "height": 88
        },
        "outputId": "eacfe038-d535-47f8-cb13-77044f079bc1"
      },
      "source": [
        "train_reviews, train_labels = get_reviews()\n",
        "print(len(train_reviews))\n",
        "print(train_reviews[0])\n",
        "print(train_labels[0])"
      ],
      "execution_count": 37,
      "outputs": [
        {
          "output_type": "stream",
          "text": [
            "25000\n",
            "['story', 'of', 'a', 'man', 'who', 'has', 'unnatural', 'feelings', 'for', 'a', 'pig', 'starts', 'out', 'with', 'a', 'opening', 'scene', 'that', 'is', 'a', 'terrific', 'example', 'of', 'absurd', 'comedy', 'a', 'formal', 'orchestra', 'audience', 'is', 'turned', 'into', 'an', 'insane', 'violent', 'mob', 'by', 'the', 'crazy', 'chantings', 'of', 'it', 's', 'singers', 'unfortunately', 'it', 'stays', 'absurd', 'the', 'whole', 'time', 'with', 'no', 'general', 'narrative', 'eventually', 'making', 'it', 'just', 'too', 'off', 'putting', 'even', 'those', 'from', 'the', 'era', 'should', 'be', 'turned', 'off', 'the', 'cryptic', 'dialogue', 'would', 'make', 'shakespeare', 'seem', 'easy', 'to', 'a', 'third', 'grader', 'on', 'a', 'technical', 'level', 'it', 's', 'better', 'than', 'you', 'might', 'think', 'with', 'some', 'good', 'cinematography', 'by', 'future', 'great', 'vilmos', 'zsigmond', 'future', 'stars', 'sally', 'kirkland', 'and', 'frederic', 'forrest', 'can', 'be', 'seen', 'briefly', '']\n",
            "[1 0]\n"
          ],
          "name": "stdout"
        }
      ]
    },
    {
      "cell_type": "code",
      "metadata": {
        "id": "_bdUE55zEFN8",
        "colab_type": "code",
        "colab": {}
      },
      "source": [
        "import urllib.request as req\n",
        "import tarfile\n",
        "import os\n",
        "import zipfile\n",
        "\n",
        "glove_url = \"http://nlp.stanford.edu/data/glove.6B.zip\"\n",
        "\n",
        "save_filename = \"glove.6B.zip\"\n",
        "if not os.path.exists(save_filename):\n",
        "    req.urlretrieve(glove_url, save_filename)\n",
        "    \n",
        "EMBEDDING_SIZE = 50\n",
        "\n",
        "glove_filename = \"glove.6B.{}d.txt\".format(EMBEDDING_SIZE)\n",
        "if not os.path.exists(glove_filename) and EMBEDDING_SIZE in [50,100,200,300]:\n",
        "    with zipfile.ZipFile(save_filename, 'r') as z:\n",
        "        z.extractall()\n",
        "\n"
      ],
      "execution_count": 0,
      "outputs": []
    },
    {
      "cell_type": "code",
      "metadata": {
        "id": "7GQFi_M2ENZl",
        "colab_type": "code",
        "colab": {}
      },
      "source": [
        "from collections import defaultdict\n",
        "\n",
        "def load_embeddings():\n",
        "    with open(glove_filename, 'r') as glove_vectors:\n",
        "        word_to_int = defaultdict(int)\n",
        "        int_to_vec = defaultdict(lambda: np.zeros([EMBEDDING_SIZE]))\n",
        "        \n",
        "        index = 1\n",
        "        for line in glove_vectors:\n",
        "            fields = line.split()\n",
        "            word = str(fields[0])\n",
        "            vec = np.asarray(fields[1:], np.float32)\n",
        "            word_to_int[word] = index\n",
        "            int_to_vec[index] = vec\n",
        "            index += 1\n",
        "    return word_to_int, int_to_vec\n",
        "\n",
        "word_to_int, int_to_vec = load_embeddings()\n",
        "\n"
      ],
      "execution_count": 0,
      "outputs": []
    },
    {
      "cell_type": "code",
      "metadata": {
        "id": "1I00ZQCgEPrq",
        "colab_type": "code",
        "colab": {
          "base_uri": "https://localhost:8080/",
          "height": 54
        },
        "outputId": "a4c2cda2-353c-4f94-8227-141d36105169"
      },
      "source": [
        "def review_words_to_ints(train_reviews):\n",
        "    train_data = []\n",
        "    for review in train_reviews:\n",
        "        int_review = [word_to_int[word] for word in review]\n",
        "        train_data.append(int_review)\n",
        "    return train_data\n",
        "\n",
        "train_reviews = review_words_to_ints(train_reviews)\n",
        "print(train_reviews[0])"
      ],
      "execution_count": 47,
      "outputs": [
        {
          "output_type": "stream",
          "text": [
            "[0, 0, 0, 0, 0, 0, 0, 0, 0, 0, 0, 0, 0, 0, 0, 0, 0, 0, 0, 0, 0, 0, 0, 0, 0, 0, 0, 0, 0, 0, 0, 0, 0, 0, 0, 0, 0, 0, 0, 0, 0, 0, 0, 0, 0, 0, 0, 0, 0, 0, 0, 0, 0, 0, 0, 0, 0, 0, 0, 0, 0, 0, 0, 0, 0, 0, 0, 0, 0, 0, 0, 0, 0, 0, 0, 0, 0, 0, 0, 0, 0, 0, 0, 0, 0, 0, 0, 0, 0, 0, 0, 0, 0, 0, 0, 0, 0, 0, 0, 0, 0, 0, 0, 0, 0, 0, 0, 0, 0, 0, 0, 0, 0, 0, 0]\n"
          ],
          "name": "stdout"
        }
      ]
    }
  ]
}