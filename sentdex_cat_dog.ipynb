{
  "nbformat": 4,
  "nbformat_minor": 0,
  "metadata": {
    "colab": {
      "name": "Untitled19.ipynb",
      "version": "0.3.2",
      "provenance": [],
      "machine_shape": "hm",
      "include_colab_link": true
    },
    "kernelspec": {
      "name": "python3",
      "display_name": "Python 3"
    },
    "accelerator": "GPU"
  },
  "cells": [
    {
      "cell_type": "markdown",
      "metadata": {
        "id": "view-in-github",
        "colab_type": "text"
      },
      "source": [
        "<a href=\"https://colab.research.google.com/github/nikhomgithub/tfSciPy2018/blob/master/sentdex_cat_dog.ipynb\" target=\"_parent\"><img src=\"https://colab.research.google.com/assets/colab-badge.svg\" alt=\"Open In Colab\"/></a>"
      ]
    },
    {
      "cell_type": "code",
      "metadata": {
        "id": "eMXtbT1aQBwt",
        "colab_type": "code",
        "colab": {
          "base_uri": "https://localhost:8080/",
          "height": 204
        },
        "outputId": "ba4a0c3a-dec2-424d-f1db-afc59a72675e"
      },
      "source": [
        "!wget https://download.microsoft.com/download/3/E/1/3E1C3F21-ECDB-4869-8368-6DEBA77B919F/kagglecatsanddogs_3367a.zip"
      ],
      "execution_count": 4,
      "outputs": [
        {
          "output_type": "stream",
          "text": [
            "--2019-09-16 07:59:06--  https://download.microsoft.com/download/3/E/1/3E1C3F21-ECDB-4869-8368-6DEBA77B919F/kagglecatsanddogs_3367a.zip\n",
            "Resolving download.microsoft.com (download.microsoft.com)... 23.36.68.33, 2600:1402:2000:1bb::e59, 2600:1402:2000:193::e59\n",
            "Connecting to download.microsoft.com (download.microsoft.com)|23.36.68.33|:443... connected.\n",
            "HTTP request sent, awaiting response... 200 OK\n",
            "Length: 824894548 (787M) [application/octet-stream]\n",
            "Saving to: ‘kagglecatsanddogs_3367a.zip’\n",
            "\n",
            "kagglecatsanddogs_3 100%[===================>] 786.68M  21.1MB/s    in 42s     \n",
            "\n",
            "2019-09-16 07:59:48 (18.8 MB/s) - ‘kagglecatsanddogs_3367a.zip’ saved [824894548/824894548]\n",
            "\n"
          ],
          "name": "stdout"
        }
      ]
    },
    {
      "cell_type": "code",
      "metadata": {
        "id": "Izhsn27eQTQ9",
        "colab_type": "code",
        "colab": {
          "base_uri": "https://localhost:8080/",
          "height": 119
        },
        "outputId": "15a24677-7b35-4cfc-d5cc-e90312445a60"
      },
      "source": [
        "!ls -alh "
      ],
      "execution_count": 6,
      "outputs": [
        {
          "output_type": "stream",
          "text": [
            "total 787M\n",
            "drwxr-xr-x 1 root root 4.0K Sep 16 07:59 .\n",
            "drwxr-xr-x 1 root root 4.0K Sep 16 07:53 ..\n",
            "drwxr-xr-x 1 root root 4.0K Sep  9 16:05 .config\n",
            "-rw-r--r-- 1 root root 787M Oct 13  2018 kagglecatsanddogs_3367a.zip\n",
            "drwxr-xr-x 1 root root 4.0K Aug 27 16:17 sample_data\n"
          ],
          "name": "stdout"
        }
      ]
    },
    {
      "cell_type": "code",
      "metadata": {
        "id": "df3COf8aQVJ7",
        "colab_type": "code",
        "colab": {}
      },
      "source": [
        "import os\n",
        "import zipfile\n",
        "\n",
        "local_zip = 'kagglecatsanddogs_3367a.zip'\n",
        "zip_ref = zipfile.ZipFile(local_zip, 'r')\n",
        "zip_ref.extractall('/tmp')\n",
        "zip_ref.close()"
      ],
      "execution_count": 0,
      "outputs": []
    },
    {
      "cell_type": "code",
      "metadata": {
        "id": "xKuy_fBsQYWm",
        "colab_type": "code",
        "colab": {
          "base_uri": "https://localhost:8080/",
          "height": 34
        },
        "outputId": "7465dae4-eb76-4862-c6f0-94ceef2467c0"
      },
      "source": [
        "!ls /tmp/PetImages"
      ],
      "execution_count": 9,
      "outputs": [
        {
          "output_type": "stream",
          "text": [
            "Cat  Dog\n"
          ],
          "name": "stdout"
        }
      ]
    },
    {
      "cell_type": "code",
      "metadata": {
        "id": "dlLeCg2BQY9w",
        "colab_type": "code",
        "colab": {
          "base_uri": "https://localhost:8080/",
          "height": 34
        },
        "outputId": "0a842541-11a2-46c7-8730-44c7d71f6fb9"
      },
      "source": [
        "import numpy as np\n",
        "import matplotlib.pyplot as plt\n",
        "import cv2\n",
        "\n",
        "DATADIR=\"/tmp/PetImages\"\n",
        "\n",
        "CATEGORIES=[\"Dog\",\"Cat\"]\n",
        "img_size=150\n",
        "\n",
        "train_data=[]\n",
        "\n",
        "def create_training_data():  \n",
        "    for i in CATEGORIES:\n",
        "        path=os.path.join(DATADIR,i)\n",
        "        class_num=CATEGORIES.index(i)\n",
        "        for img in os.listdir(path):\n",
        "            try:\n",
        "                img_path=os.path.join(path,img)\n",
        "                #convert to gray scale\n",
        "                img_array=cv2.imread(img_path,cv2.IMREAD_GRAYSCALE)\n",
        "                \n",
        "                #resize to be 150x150, keep same ratio as original\n",
        "                if img_array.shape[0]==img_array.shape[1]:\n",
        "                  new_array=cv2.resize(img_array,(img_size,img_size))\n",
        "                  #print('condition1')  \n",
        "                elif img_array.shape[0]<img_array.shape[1]:\n",
        "                  center0=int(img_array.shape[0]/2)\n",
        "                  center1=int(img_array.shape[1]/2)\n",
        "                  start0=0\n",
        "                  end0=center0*2\n",
        "                  start1=center1-center0\n",
        "                  end1=center1+center0\n",
        "                  #print('condition2')\n",
        "                  new_array=img_array[start0:end0,start1:end1]\n",
        "                  new_array=cv2.resize(img_array,(img_size,img_size)) \n",
        "                else:\n",
        "                  center0=int(img_array.shape[0]/2)\n",
        "                  center1=int(img_array.shape[1]/2)\n",
        "                  start1=0\n",
        "                  end1=center1*2\n",
        "                  start0=center0-center1\n",
        "                  end0=center0+center1\n",
        "                  #print('condition3')\n",
        "                  new_array=img_array[start0:end0,start1:end1]\n",
        "                  new_array=cv2.resize(img_array,(img_size,img_size))    \n",
        "                  \n",
        "                cv2.imwrite(img_path, new_array) #optional \n",
        "                train_data.append([new_array,class_num])\n",
        "                          \n",
        "            except Exception as e:\n",
        "                pass\n",
        "\n",
        "create_training_data()\n",
        "print(len(train_data))"
      ],
      "execution_count": 10,
      "outputs": [
        {
          "output_type": "stream",
          "text": [
            "24946\n"
          ],
          "name": "stdout"
        }
      ]
    },
    {
      "cell_type": "code",
      "metadata": {
        "id": "24rwzljJTsO-",
        "colab_type": "code",
        "colab": {
          "base_uri": "https://localhost:8080/",
          "height": 286
        },
        "outputId": "6cdbf448-dab4-4708-e61c-4734f7552c40"
      },
      "source": [
        "img_path=\"/tmp/PetImages/Dog/1.jpg\"\n",
        "img=cv2.imread(img_path)\n",
        "plt.imshow(img)"
      ],
      "execution_count": 11,
      "outputs": [
        {
          "output_type": "execute_result",
          "data": {
            "text/plain": [
              "<matplotlib.image.AxesImage at 0x7fd48170a320>"
            ]
          },
          "metadata": {
            "tags": []
          },
          "execution_count": 11
        },
        {
          "output_type": "display_data",
          "data": {
            "image/png": "[encoded data removed]",
            "text/plain": [
              "<Figure size 432x288 with 1 Axes>"
            ]
          },
          "metadata": {
            "tags": []
          }
        }
      ]
    },
    {
      "cell_type": "code",
      "metadata": {
        "id": "J75sRw6UT0qy",
        "colab_type": "code",
        "colab": {
          "base_uri": "https://localhost:8080/",
          "height": 136
        },
        "outputId": "e0a2a9cb-1486-4d1c-aa7d-ca57cdab563e"
      },
      "source": [
        "print(train_data[0])"
      ],
      "execution_count": 12,
      "outputs": [
        {
          "output_type": "stream",
          "text": [
            "[array([[243, 243, 240, ..., 241, 241, 243],\n",
            "       [237, 239, 236, ..., 241, 241, 241],\n",
            "       [220, 214, 218, ..., 203, 203, 204],\n",
            "       ...,\n",
            "       [ 84,  43,  44, ...,  52,  51,  62],\n",
            "       [ 85,  55,  43, ...,  52,  56,  61],\n",
            "       [ 76,  60,  59, ...,  70,  70,  64]], dtype=uint8), 0]\n"
          ],
          "name": "stdout"
        }
      ]
    },
    {
      "cell_type": "code",
      "metadata": {
        "id": "Jan1htqbSWn4",
        "colab_type": "code",
        "colab": {
          "base_uri": "https://localhost:8080/",
          "height": 187
        },
        "outputId": "6bda3b56-b443-4165-9f04-70df86990a6e"
      },
      "source": [
        "import random\n",
        "random.shuffle(train_data)\n",
        "\n",
        "for sample in train_data[:10]:\n",
        "  print(sample[1])"
      ],
      "execution_count": 14,
      "outputs": [
        {
          "output_type": "stream",
          "text": [
            "0\n",
            "1\n",
            "1\n",
            "1\n",
            "0\n",
            "1\n",
            "0\n",
            "0\n",
            "1\n",
            "0\n"
          ],
          "name": "stdout"
        }
      ]
    },
    {
      "cell_type": "code",
      "metadata": {
        "id": "hEmtpdrvV0mc",
        "colab_type": "code",
        "colab": {}
      },
      "source": [
        "x=[]\n",
        "y=[]"
      ],
      "execution_count": 0,
      "outputs": []
    },
    {
      "cell_type": "code",
      "metadata": {
        "id": "vA5dsI0RV4C6",
        "colab_type": "code",
        "colab": {}
      },
      "source": [
        "for features,label in train_data:\n",
        "  x.append(features)\n",
        "  y.append(label)"
      ],
      "execution_count": 0,
      "outputs": []
    },
    {
      "cell_type": "code",
      "metadata": {
        "id": "AISAuWg4D9sh",
        "colab_type": "code",
        "colab": {
          "base_uri": "https://localhost:8080/",
          "height": 34
        },
        "outputId": "b666cfc2-837e-4ccd-9abd-442e5dd0563c"
      },
      "source": [
        "print(x[0].dtype)"
      ],
      "execution_count": 17,
      "outputs": [
        {
          "output_type": "stream",
          "text": [
            "uint8\n"
          ],
          "name": "stdout"
        }
      ]
    },
    {
      "cell_type": "code",
      "metadata": {
        "id": "I7PlN59vDt_D",
        "colab_type": "code",
        "colab": {
          "base_uri": "https://localhost:8080/",
          "height": 269
        },
        "outputId": "1009c556-db9f-48cd-bbf4-32725a565e73"
      },
      "source": [
        "plt.imshow(x[0],cmap=\"gray\")\n",
        "plt.show()"
      ],
      "execution_count": 18,
      "outputs": [
        {
          "output_type": "display_data",
          "data": {
            "image/png": "[encoded data removed]",
            "text/plain": [
              "<Figure size 432x288 with 1 Axes>"
            ]
          },
          "metadata": {
            "tags": []
          }
        }
      ]
    },
    {
      "cell_type": "code",
      "metadata": {
        "id": "fJ1jHf-MDowe",
        "colab_type": "code",
        "colab": {}
      },
      "source": [
        "cvt_x=np.array(x).reshape(-1,img_size,img_size,1)  "
      ],
      "execution_count": 0,
      "outputs": []
    },
    {
      "cell_type": "code",
      "metadata": {
        "id": "MUfZmOFTWwXA",
        "colab_type": "code",
        "colab": {
          "base_uri": "https://localhost:8080/",
          "height": 34
        },
        "outputId": "77991eb8-5db7-4a3f-eefa-272b486acf07"
      },
      "source": [
        "print(cvt_x.shape)"
      ],
      "execution_count": 20,
      "outputs": [
        {
          "output_type": "stream",
          "text": [
            "(24946, 150, 150, 1)\n"
          ],
          "name": "stdout"
        }
      ]
    },
    {
      "cell_type": "code",
      "metadata": {
        "id": "WxGlhveNWzu7",
        "colab_type": "code",
        "colab": {
          "base_uri": "https://localhost:8080/",
          "height": 34
        },
        "outputId": "3bab7a71-2afd-400a-eaa7-d94a66f47e6c"
      },
      "source": [
        "print(len(y))"
      ],
      "execution_count": 21,
      "outputs": [
        {
          "output_type": "stream",
          "text": [
            "24946\n"
          ],
          "name": "stdout"
        }
      ]
    },
    {
      "cell_type": "code",
      "metadata": {
        "id": "wlmIhoLpXMj6",
        "colab_type": "code",
        "colab": {}
      },
      "source": [
        "import pickle\n",
        "#save array of x, y with pickle\n",
        "\n",
        "pickle_out=open(\"x.pickle\",\"wb\")\n",
        "pickle.dump(cvt_x,pickle_out)\n",
        "pickle_out.close()\n",
        "\n",
        "pickle_out=open(\"y.pickle\",\"wb\")\n",
        "pickle.dump(y,pickle_out)\n",
        "pickle_out.close()\n"
      ],
      "execution_count": 0,
      "outputs": []
    },
    {
      "cell_type": "code",
      "metadata": {
        "id": "0AAOHkR3Yp6a",
        "colab_type": "code",
        "colab": {
          "base_uri": "https://localhost:8080/",
          "height": 153
        },
        "outputId": "3c092b40-f49c-4d5d-eeaf-a808dd82f935"
      },
      "source": [
        "!ls -alh"
      ],
      "execution_count": 23,
      "outputs": [
        {
          "output_type": "stream",
          "text": [
            "total 1.3G\n",
            "drwxr-xr-x 1 root root 4.0K Sep 16 08:02 .\n",
            "drwxr-xr-x 1 root root 4.0K Sep 16 07:53 ..\n",
            "drwxr-xr-x 1 root root 4.0K Sep  9 16:05 .config\n",
            "-rw-r--r-- 1 root root 787M Oct 13  2018 kagglecatsanddogs_3367a.zip\n",
            "drwxr-xr-x 1 root root 4.0K Aug 27 16:17 sample_data\n",
            "-rw-r--r-- 1 root root 536M Sep 16 08:02 x.pickle\n",
            "-rw-r--r-- 1 root root  49K Sep 16 08:02 y.pickle\n"
          ],
          "name": "stdout"
        }
      ]
    },
    {
      "cell_type": "code",
      "metadata": {
        "id": "dd2lRgOfYDV0",
        "colab_type": "code",
        "colab": {}
      },
      "source": [
        "pickle_in=open(\"x.pickle\",\"rb\")\n",
        "load_x=pickle.load(pickle_in)\n",
        "pickle_in.close()\n",
        "\n",
        "pickle_in=open(\"y.pickle\",\"rb\")\n",
        "load_y=pickle.load(pickle_in)\n",
        "pickle_in.close()"
      ],
      "execution_count": 0,
      "outputs": []
    },
    {
      "cell_type": "code",
      "metadata": {
        "id": "dQp_XlZyY2Su",
        "colab_type": "code",
        "colab": {
          "base_uri": "https://localhost:8080/",
          "height": 34
        },
        "outputId": "b56b4cc5-f374-410f-fd35-760a4175fa6f"
      },
      "source": [
        "print(load_x.shape)"
      ],
      "execution_count": 25,
      "outputs": [
        {
          "output_type": "stream",
          "text": [
            "(24946, 150, 150, 1)\n"
          ],
          "name": "stdout"
        }
      ]
    },
    {
      "cell_type": "code",
      "metadata": {
        "id": "_5CERSgiY73t",
        "colab_type": "code",
        "colab": {
          "base_uri": "https://localhost:8080/",
          "height": 34
        },
        "outputId": "6452c1e2-fde8-406e-92b8-b4d9c71d7f79"
      },
      "source": [
        "print(len(load_y))"
      ],
      "execution_count": 26,
      "outputs": [
        {
          "output_type": "stream",
          "text": [
            "24946\n"
          ],
          "name": "stdout"
        }
      ]
    },
    {
      "cell_type": "code",
      "metadata": {
        "id": "jncwd6omZGrN",
        "colab_type": "code",
        "colab": {}
      },
      "source": [
        "from google.colab import files\n",
        "files.download('y.pickle') \n",
        "#better to zip file"
      ],
      "execution_count": 0,
      "outputs": []
    },
    {
      "cell_type": "code",
      "metadata": {
        "id": "v-CSzFEZcLWw",
        "colab_type": "code",
        "colab": {}
      },
      "source": [
        "files.upload()"
      ],
      "execution_count": 0,
      "outputs": []
    },
    {
      "cell_type": "code",
      "metadata": {
        "id": "sKt0LYWPdJnw",
        "colab_type": "code",
        "colab": {}
      },
      "source": [
        "cvt_x=cvt_x/255.0"
      ],
      "execution_count": 0,
      "outputs": []
    },
    {
      "cell_type": "code",
      "metadata": {
        "id": "7yLluTghf_oh",
        "colab_type": "code",
        "colab": {
          "base_uri": "https://localhost:8080/",
          "height": 54
        },
        "outputId": "0e213bcc-5cd7-4b27-8d99-586fe6c839a3"
      },
      "source": [
        "\"\"\"\n",
        "import tensorflow as tf\n",
        "\n",
        "model = tf.keras.models.Sequential([\n",
        "    # Note the input shape is the desired size of the image 150x150 with 3 bytes color\n",
        "    # This is the first convolution\n",
        "    tf.keras.layers.Conv2D(64, (3,3), activation='relu', input_shape=x.shape[1:]),\n",
        "    tf.keras.layers.MaxPooling2D(2, 2),\n",
        "    # The second convolution\n",
        "    tf.keras.layers.Conv2D(64, (3,3), activation='relu'),\n",
        "    tf.keras.layers.MaxPooling2D(2,2),\n",
        "    # The third convolution\n",
        "    tf.keras.layers.Conv2D(64, (3,3), activation='relu'),\n",
        "    tf.keras.layers.MaxPooling2D(2,2),\n",
        "    # Flatten the results to feed into a DNN\n",
        "    tf.keras.layers.Flatten(),\n",
        "    tf.keras.layers.Dropout(0.5),\n",
        "    # 512 neuron hidden layer\n",
        "    tf.keras.layers.Dense(128, activation='relu'),\n",
        "    tf.keras.layers.Dense(1, activation='sigmoid')\n",
        "])\n",
        "\n",
        "model.summary()\n",
        "\n",
        "model.compile(loss = 'binary_crossentropy', optimizer='adam', metrics=['accuracy'])\n",
        "\n",
        "\"\"\""
      ],
      "execution_count": 28,
      "outputs": [
        {
          "output_type": "execute_result",
          "data": {
            "text/plain": [
              "\"\\nimport tensorflow as tf\\n\\nmodel = tf.keras.models.Sequential([\\n    # Note the input shape is the desired size of the image 150x150 with 3 bytes color\\n    # This is the first convolution\\n    tf.keras.layers.Conv2D(64, (3,3), activation='relu', input_shape=x.shape[1:]),\\n    tf.keras.layers.MaxPooling2D(2, 2),\\n    # The second convolution\\n    tf.keras.layers.Conv2D(64, (3,3), activation='relu'),\\n    tf.keras.layers.MaxPooling2D(2,2),\\n    # The third convolution\\n    tf.keras.layers.Conv2D(64, (3,3), activation='relu'),\\n    tf.keras.layers.MaxPooling2D(2,2),\\n    # Flatten the results to feed into a DNN\\n    tf.keras.layers.Flatten(),\\n    tf.keras.layers.Dropout(0.5),\\n    # 512 neuron hidden layer\\n    tf.keras.layers.Dense(128, activation='relu'),\\n    tf.keras.layers.Dense(1, activation='sigmoid')\\n])\\n\\nmodel.summary()\\n\\nmodel.compile(loss = 'binary_crossentropy', optimizer='adam', metrics=['accuracy'])\\n\\n\""
            ]
          },
          "metadata": {
            "tags": []
          },
          "execution_count": 28
        }
      ]
    },
    {
      "cell_type": "code",
      "metadata": {
        "id": "5qAwlXeehWFh",
        "colab_type": "code",
        "colab": {}
      },
      "source": [
        "# model.fit(x,y,batch_size=15, epochs=10, validation_split=0.3)"
      ],
      "execution_count": 0,
      "outputs": []
    },
    {
      "cell_type": "code",
      "metadata": {
        "id": "RUavF1qGkPGU",
        "colab_type": "code",
        "colab": {
          "base_uri": "https://localhost:8080/",
          "height": 54
        },
        "outputId": "65a042aa-8224-4a0e-e35b-9c0c70be6ba0"
      },
      "source": [
        "\"\"\"\n",
        "model2 = tf.keras.models.Sequential([\n",
        "    # Note the input shape is the desired size of the image 150x150 with 3 bytes color\n",
        "    # This is the first convolution\n",
        "    tf.keras.layers.Conv2D(64, (3,3), activation='relu', input_shape=x.shape[1:]),\n",
        "    tf.keras.layers.MaxPooling2D(2, 2),\n",
        "    # The second convolution\n",
        "    tf.keras.layers.Conv2D(64, (3,3), activation='relu'),\n",
        "    tf.keras.layers.MaxPooling2D(2,2),\n",
        "    # The third convolution\n",
        "    # Flatten the results to feed into a DNN\n",
        "    tf.keras.layers.Flatten(),\n",
        "    tf.keras.layers.Dropout(0.5),\n",
        "    # 512 neuron hidden layer\n",
        "    tf.keras.layers.Dense(128, activation='relu'),\n",
        "    \n",
        "    tf.keras.layers.Dense(1, activation='sigmoid')\n",
        "])\n",
        "\n",
        "model2.summary()\n",
        "\n",
        "model2.compile(loss = 'binary_crossentropy', optimizer='adam', metrics=['accuracy'])\n",
        "\"\"\""
      ],
      "execution_count": 30,
      "outputs": [
        {
          "output_type": "execute_result",
          "data": {
            "text/plain": [
              "\"\\nmodel2 = tf.keras.models.Sequential([\\n    # Note the input shape is the desired size of the image 150x150 with 3 bytes color\\n    # This is the first convolution\\n    tf.keras.layers.Conv2D(64, (3,3), activation='relu', input_shape=x.shape[1:]),\\n    tf.keras.layers.MaxPooling2D(2, 2),\\n    # The second convolution\\n    tf.keras.layers.Conv2D(64, (3,3), activation='relu'),\\n    tf.keras.layers.MaxPooling2D(2,2),\\n    # The third convolution\\n    # Flatten the results to feed into a DNN\\n    tf.keras.layers.Flatten(),\\n    tf.keras.layers.Dropout(0.5),\\n    # 512 neuron hidden layer\\n    tf.keras.layers.Dense(128, activation='relu'),\\n    \\n    tf.keras.layers.Dense(1, activation='sigmoid')\\n])\\n\\nmodel2.summary()\\n\\nmodel2.compile(loss = 'binary_crossentropy', optimizer='adam', metrics=['accuracy'])\\n\""
            ]
          },
          "metadata": {
            "tags": []
          },
          "execution_count": 30
        }
      ]
    },
    {
      "cell_type": "code",
      "metadata": {
        "id": "Jbxh_7aIksoA",
        "colab_type": "code",
        "colab": {}
      },
      "source": [
        "# model2.fit(x,y,batch_size=32, epochs=10, validation_split=0.3)"
      ],
      "execution_count": 0,
      "outputs": []
    },
    {
      "cell_type": "code",
      "metadata": {
        "id": "YLFOOPr-rOiZ",
        "colab_type": "code",
        "colab": {
          "base_uri": "https://localhost:8080/",
          "height": 683
        },
        "outputId": "42669d2f-6437-4ce1-931a-d3a182b21973"
      },
      "source": [
        "import tensorflow as tf\n",
        "\n",
        "model3 = tf.keras.models.Sequential([\n",
        "    # Note the input shape is the desired size of the image 150x150 with 3 bytes color\n",
        "    # This is the first convolution\n",
        "    tf.keras.layers.Conv2D(64, (3,3), activation='relu', input_shape=cvt_x.shape[1:]),\n",
        "    tf.keras.layers.MaxPooling2D(2, 2),\n",
        "    \n",
        "    # The second convolution\n",
        "    tf.keras.layers.Conv2D(64, (3,3), activation='relu'),\n",
        "    tf.keras.layers.MaxPooling2D(2,2),\n",
        "\n",
        "    # The third convolution\n",
        "    tf.keras.layers.Conv2D(64, (3,3), activation='relu'),\n",
        "    tf.keras.layers.MaxPooling2D(2,2),\n",
        "    \n",
        "    # Flatten the results to feed into a DNN\n",
        "    tf.keras.layers.Flatten(),\n",
        "    tf.keras.layers.Dropout(0.5),\n",
        " \n",
        "    \n",
        "    # 512 neuron hidden layer\n",
        "    tf.keras.layers.Dense(256, activation='relu'),\n",
        "    tf.keras.layers.Dense(128, activation='relu'),\n",
        "    tf.keras.layers.Dense(64, activation='relu'),\n",
        "    \n",
        "    tf.keras.layers.Dense(1, activation='sigmoid')\n",
        "])\n",
        "\n",
        "model3.summary()\n",
        "\n",
        "model3.compile(loss = 'binary_crossentropy', optimizer='adam', metrics=['accuracy'])"
      ],
      "execution_count": 35,
      "outputs": [
        {
          "output_type": "stream",
          "text": [
            "WARNING:tensorflow:From /usr/local/lib/python3.6/dist-packages/tensorflow/python/ops/init_ops.py:1251: calling VarianceScaling.__init__ (from tensorflow.python.ops.init_ops) with dtype is deprecated and will be removed in a future version.\n",
            "Instructions for updating:\n",
            "Call initializer instance with the dtype argument instead of passing it to the constructor\n",
            "Model: \"sequential\"\n",
            "_________________________________________________________________\n",
            "Layer (type)                 Output Shape              Param #   \n",
            "=================================================================\n",
            "conv2d (Conv2D)              (None, 148, 148, 64)      640       \n",
            "_________________________________________________________________\n",
            "max_pooling2d (MaxPooling2D) (None, 74, 74, 64)        0         \n",
            "_________________________________________________________________\n",
            "conv2d_1 (Conv2D)            (None, 72, 72, 64)        36928     \n",
            "_________________________________________________________________\n",
            "max_pooling2d_1 (MaxPooling2 (None, 36, 36, 64)        0         \n",
            "_________________________________________________________________\n",
            "conv2d_2 (Conv2D)            (None, 34, 34, 64)        36928     \n",
            "_________________________________________________________________\n",
            "max_pooling2d_2 (MaxPooling2 (None, 17, 17, 64)        0         \n",
            "_________________________________________________________________\n",
            "flatten (Flatten)            (None, 18496)             0         \n",
            "_________________________________________________________________\n",
            "dropout (Dropout)            (None, 18496)             0         \n",
            "_________________________________________________________________\n",
            "dense (Dense)                (None, 256)               4735232   \n",
            "_________________________________________________________________\n",
            "dense_1 (Dense)              (None, 128)               32896     \n",
            "_________________________________________________________________\n",
            "dense_2 (Dense)              (None, 64)                8256      \n",
            "_________________________________________________________________\n",
            "dense_3 (Dense)              (None, 1)                 65        \n",
            "=================================================================\n",
            "Total params: 4,850,945\n",
            "Trainable params: 4,850,945\n",
            "Non-trainable params: 0\n",
            "_________________________________________________________________\n",
            "WARNING:tensorflow:From /usr/local/lib/python3.6/dist-packages/tensorflow/python/ops/nn_impl.py:180: add_dispatch_support.<locals>.wrapper (from tensorflow.python.ops.array_ops) is deprecated and will be removed in a future version.\n",
            "Instructions for updating:\n",
            "Use tf.where in 2.0, which has the same broadcast rule as np.where\n"
          ],
          "name": "stdout"
        }
      ]
    },
    {
      "cell_type": "code",
      "metadata": {
        "id": "alNZ-VParqmC",
        "colab_type": "code",
        "colab": {
          "base_uri": "https://localhost:8080/",
          "height": 221
        },
        "outputId": "5a67a32b-c6af-40b8-bb8f-8784855355c5"
      },
      "source": [
        "model3.fit(cvt_x,y,batch_size=32, epochs=5, validation_split=0.3)"
      ],
      "execution_count": 36,
      "outputs": [
        {
          "output_type": "stream",
          "text": [
            "Train on 17462 samples, validate on 7484 samples\n",
            "Epoch 1/5\n",
            "17462/17462 [==============================] - 44s 3ms/sample - loss: 0.6825 - acc: 0.5515 - val_loss: 0.6635 - val_acc: 0.6005\n",
            "Epoch 2/5\n",
            "17462/17462 [==============================] - 41s 2ms/sample - loss: 0.5956 - acc: 0.6837 - val_loss: 0.5413 - val_acc: 0.7251\n",
            "Epoch 3/5\n",
            "17462/17462 [==============================] - 41s 2ms/sample - loss: 0.4937 - acc: 0.7582 - val_loss: 0.4813 - val_acc: 0.7730\n",
            "Epoch 4/5\n",
            "17462/17462 [==============================] - 41s 2ms/sample - loss: 0.4345 - acc: 0.7928 - val_loss: 0.4650 - val_acc: 0.7861\n",
            "Epoch 5/5\n",
            "17462/17462 [==============================] - 41s 2ms/sample - loss: 0.3747 - acc: 0.8305 - val_loss: 0.4524 - val_acc: 0.7897\n"
          ],
          "name": "stdout"
        },
        {
          "output_type": "execute_result",
          "data": {
            "text/plain": [
              "<tensorflow.python.keras.callbacks.History at 0x7fd44756a4e0>"
            ]
          },
          "metadata": {
            "tags": []
          },
          "execution_count": 36
        }
      ]
    },
    {
      "cell_type": "code",
      "metadata": {
        "id": "29kSRjH8zwi-",
        "colab_type": "code",
        "colab": {}
      },
      "source": [
        "model3.save('dog_cat.model')"
      ],
      "execution_count": 0,
      "outputs": []
    },
    {
      "cell_type": "code",
      "metadata": {
        "id": "_BVYu6ZG8HDu",
        "colab_type": "code",
        "colab": {
          "base_uri": "https://localhost:8080/",
          "height": 139
        },
        "outputId": "2a2884cb-5c29-4aaa-9d4b-f141992f6584"
      },
      "source": [
        "load_model=tf.keras.models.load_model('dog_cat.model')"
      ],
      "execution_count": 38,
      "outputs": [
        {
          "output_type": "stream",
          "text": [
            "WARNING:tensorflow:From /usr/local/lib/python3.6/dist-packages/tensorflow/python/ops/init_ops.py:97: calling GlorotUniform.__init__ (from tensorflow.python.ops.init_ops) with dtype is deprecated and will be removed in a future version.\n",
            "Instructions for updating:\n",
            "Call initializer instance with the dtype argument instead of passing it to the constructor\n",
            "WARNING:tensorflow:From /usr/local/lib/python3.6/dist-packages/tensorflow/python/ops/init_ops.py:97: calling Zeros.__init__ (from tensorflow.python.ops.init_ops) with dtype is deprecated and will be removed in a future version.\n",
            "Instructions for updating:\n",
            "Call initializer instance with the dtype argument instead of passing it to the constructor\n"
          ],
          "name": "stdout"
        }
      ]
    },
    {
      "cell_type": "code",
      "metadata": {
        "id": "Rd0pP54z7tIL",
        "colab_type": "code",
        "colab": {}
      },
      "source": [
        "prediction=load_model.predict([cvt_x])"
      ],
      "execution_count": 0,
      "outputs": []
    },
    {
      "cell_type": "code",
      "metadata": {
        "id": "Qinf76sG85S6",
        "colab_type": "code",
        "colab": {
          "base_uri": "https://localhost:8080/",
          "height": 34
        },
        "outputId": "3bb7e026-8fd7-48f7-ea7d-f5758fb9afd2"
      },
      "source": [
        "print(prediction.shape)"
      ],
      "execution_count": 40,
      "outputs": [
        {
          "output_type": "stream",
          "text": [
            "(24946, 1)\n"
          ],
          "name": "stdout"
        }
      ]
    },
    {
      "cell_type": "code",
      "metadata": {
        "id": "f1Ax0gqU8_UA",
        "colab_type": "code",
        "colab": {
          "base_uri": "https://localhost:8080/",
          "height": 34
        },
        "outputId": "4449aaa3-d3b0-4ac6-b93a-85d45e37a868"
      },
      "source": [
        "print(cvt_x.shape)"
      ],
      "execution_count": 44,
      "outputs": [
        {
          "output_type": "stream",
          "text": [
            "(24946, 150, 150, 1)\n"
          ],
          "name": "stdout"
        }
      ]
    },
    {
      "cell_type": "code",
      "metadata": {
        "id": "LM0crPj-_acA",
        "colab_type": "code",
        "colab": {
          "base_uri": "https://localhost:8080/",
          "height": 34
        },
        "outputId": "053e0c48-f5c6-4133-a6a6-4654e9e28e7e"
      },
      "source": [
        "print(len(y))"
      ],
      "execution_count": 45,
      "outputs": [
        {
          "output_type": "stream",
          "text": [
            "24946\n"
          ],
          "name": "stdout"
        }
      ]
    },
    {
      "cell_type": "code",
      "metadata": {
        "id": "Wwd_h83x_dKr",
        "colab_type": "code",
        "colab": {
          "base_uri": "https://localhost:8080/",
          "height": 136
        },
        "outputId": "1c3eb35d-3130-4410-eff8-e082aaf5047f"
      },
      "source": [
        "print(prediction)"
      ],
      "execution_count": 46,
      "outputs": [
        {
          "output_type": "stream",
          "text": [
            "[[0.10151225]\n",
            " [0.9924656 ]\n",
            " [0.88550127]\n",
            " ...\n",
            " [0.60030425]\n",
            " [0.2610725 ]\n",
            " [0.09860024]]\n"
          ],
          "name": "stdout"
        }
      ]
    },
    {
      "cell_type": "code",
      "metadata": {
        "id": "rYndl61c_om1",
        "colab_type": "code",
        "colab": {
          "base_uri": "https://localhost:8080/",
          "height": 34
        },
        "outputId": "da258f63-c759-457e-f0be-544fb43dc77e"
      },
      "source": [
        "print(prediction[24943])"
      ],
      "execution_count": 59,
      "outputs": [
        {
          "output_type": "stream",
          "text": [
            "[0.60030425]\n"
          ],
          "name": "stdout"
        }
      ]
    },
    {
      "cell_type": "code",
      "metadata": {
        "id": "KDfk6xL7_wfs",
        "colab_type": "code",
        "colab": {
          "base_uri": "https://localhost:8080/",
          "height": 34
        },
        "outputId": "85b4e8ba-383c-42e1-ce56-24db9a55133d"
      },
      "source": [
        "print(y[24943])"
      ],
      "execution_count": 60,
      "outputs": [
        {
          "output_type": "stream",
          "text": [
            "1\n"
          ],
          "name": "stdout"
        }
      ]
    },
    {
      "cell_type": "code",
      "metadata": {
        "id": "_CWFoK95AW0Z",
        "colab_type": "code",
        "colab": {
          "base_uri": "https://localhost:8080/",
          "height": 269
        },
        "outputId": "62262e14-e12e-4f7e-bc31-293030b49ad1"
      },
      "source": [
        "plt.imshow(x[24943],cmap=\"gray\")\n",
        "plt.show()"
      ],
      "execution_count": 61,
      "outputs": [
        {
          "output_type": "display_data",
          "data": {
            "image/png": "[encoded data removed]",
            "text/plain": [
              "<Figure size 432x288 with 1 Axes>"
            ]
          },
          "metadata": {
            "tags": []
          }
        }
      ]
    },
    {
      "cell_type": "code",
      "metadata": {
        "id": "WSgm7tkEJCdp",
        "colab_type": "code",
        "colab": {}
      },
      "source": [
        ""
      ],
      "execution_count": 0,
      "outputs": []
    }
  ]
}