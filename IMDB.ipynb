{
  "nbformat": 4,
  "nbformat_minor": 0,
  "metadata": {
    "colab": {
      "name": "Untitled4.ipynb",
      "version": "0.3.2",
      "provenance": [],
      "include_colab_link": true
    },
    "kernelspec": {
      "name": "python3",
      "display_name": "Python 3"
    },
    "accelerator": "GPU"
  },
  "cells": [
    {
      "cell_type": "markdown",
      "metadata": {
        "id": "view-in-github",
        "colab_type": "text"
      },
      "source": [
        "<a href=\"https://colab.research.google.com/github/nikhomgithub/tfSciPy2018/blob/master/IMDB.ipynb\" target=\"_parent\"><img src=\"https://colab.research.google.com/assets/colab-badge.svg\" alt=\"Open In Colab\"/></a>"
      ]
    },
    {
      "cell_type": "code",
      "metadata": {
        "id": "EplzVRpmYms_",
        "colab_type": "code",
        "colab": {
          "base_uri": "https://localhost:8080/",
          "height": 34
        },
        "outputId": "85c91297-fa1c-4886-ee05-a07c9b5c44bd"
      },
      "source": [
        "from __future__ import absolute_import, division, print_function, unicode_literals\n",
        "\n",
        "import tensorflow as tf\n",
        "from tensorflow import keras\n",
        "\n",
        "import numpy as np\n",
        "\n",
        "print(tf.__version__)\n"
      ],
      "execution_count": 1,
      "outputs": [
        {
          "output_type": "stream",
          "text": [
            "1.14.0\n"
          ],
          "name": "stdout"
        }
      ]
    },
    {
      "cell_type": "code",
      "metadata": {
        "id": "LnUjN9DhZFfi",
        "colab_type": "code",
        "colab": {}
      },
      "source": [
        "imdb = keras.datasets.imdb\n",
        "\n",
        "(train_data, train_labels), (test_data, test_labels) = imdb.load_data(num_words=10000)\n"
      ],
      "execution_count": 0,
      "outputs": []
    },
    {
      "cell_type": "code",
      "metadata": {
        "id": "-ureWnzgZayK",
        "colab_type": "code",
        "colab": {
          "base_uri": "https://localhost:8080/",
          "height": 34
        },
        "outputId": "f6cae19f-d33c-47b8-e6cb-d325f83028f7"
      },
      "source": [
        "print(\"Training entries: {}, labels: {}\".format(len(train_data), len(train_labels)))\n"
      ],
      "execution_count": 3,
      "outputs": [
        {
          "output_type": "stream",
          "text": [
            "Training entries: 25000, labels: 25000\n"
          ],
          "name": "stdout"
        }
      ]
    },
    {
      "cell_type": "code",
      "metadata": {
        "id": "3X5N-da2Zeiq",
        "colab_type": "code",
        "colab": {
          "base_uri": "https://localhost:8080/",
          "height": 54
        },
        "outputId": "c44050d7-e120-42c5-f728-a470e7bd585d"
      },
      "source": [
        "print(train_data[0])\n"
      ],
      "execution_count": 4,
      "outputs": [
        {
          "output_type": "stream",
          "text": [
            "[1, 14, 22, 16, 43, 530, 973, 1622, 1385, 65, 458, 4468, 66, 3941, 4, 173, 36, 256, 5, 25, 100, 43, 838, 112, 50, 670, 2, 9, 35, 480, 284, 5, 150, 4, 172, 112, 167, 2, 336, 385, 39, 4, 172, 4536, 1111, 17, 546, 38, 13, 447, 4, 192, 50, 16, 6, 147, 2025, 19, 14, 22, 4, 1920, 4613, 469, 4, 22, 71, 87, 12, 16, 43, 530, 38, 76, 15, 13, 1247, 4, 22, 17, 515, 17, 12, 16, 626, 18, 2, 5, 62, 386, 12, 8, 316, 8, 106, 5, 4, 2223, 5244, 16, 480, 66, 3785, 33, 4, 130, 12, 16, 38, 619, 5, 25, 124, 51, 36, 135, 48, 25, 1415, 33, 6, 22, 12, 215, 28, 77, 52, 5, 14, 407, 16, 82, 2, 8, 4, 107, 117, 5952, 15, 256, 4, 2, 7, 3766, 5, 723, 36, 71, 43, 530, 476, 26, 400, 317, 46, 7, 4, 2, 1029, 13, 104, 88, 4, 381, 15, 297, 98, 32, 2071, 56, 26, 141, 6, 194, 7486, 18, 4, 226, 22, 21, 134, 476, 26, 480, 5, 144, 30, 5535, 18, 51, 36, 28, 224, 92, 25, 104, 4, 226, 65, 16, 38, 1334, 88, 12, 16, 283, 5, 16, 4472, 113, 103, 32, 15, 16, 5345, 19, 178, 32]\n"
          ],
          "name": "stdout"
        }
      ]
    },
    {
      "cell_type": "code",
      "metadata": {
        "id": "nVSCgyOwZnEr",
        "colab_type": "code",
        "colab": {
          "base_uri": "https://localhost:8080/",
          "height": 34
        },
        "outputId": "be299d88-bd08-45c7-a2c4-a3c3f7d62f6d"
      },
      "source": [
        "len(train_data[0]), len(train_data[1])\n"
      ],
      "execution_count": 5,
      "outputs": [
        {
          "output_type": "execute_result",
          "data": {
            "text/plain": [
              "(218, 189)"
            ]
          },
          "metadata": {
            "tags": []
          },
          "execution_count": 5
        }
      ]
    },
    {
      "cell_type": "code",
      "metadata": {
        "id": "IBePIwkAZ1io",
        "colab_type": "code",
        "colab": {}
      },
      "source": [
        "# A dictionary mapping words to an integer index\n",
        "word_index = imdb.get_word_index()\n",
        "\n",
        "# The first indices are reserved\n",
        "word_index = {k:(v+3) for k,v in word_index.items()}\n",
        "word_index[\"<PAD>\"] = 0\n",
        "word_index[\"<START>\"] = 1\n",
        "word_index[\"<UNK>\"] = 2  # unknown\n",
        "word_index[\"<UNUSED>\"] = 3\n",
        "\n",
        "reverse_word_index = dict([(value, key) for (key, value) in word_index.items()])\n",
        "\n",
        "def decode_review(text):\n",
        "    return ' '.join([reverse_word_index.get(i, '?') for i in text])\n"
      ],
      "execution_count": 0,
      "outputs": []
    },
    {
      "cell_type": "code",
      "metadata": {
        "id": "Q0KCNAhAZ9ao",
        "colab_type": "code",
        "colab": {
          "base_uri": "https://localhost:8080/",
          "height": 54
        },
        "outputId": "ccbef260-bffe-4a7e-a3b8-47bb7d5be548"
      },
      "source": [
        "decode_review(train_data[0])\n"
      ],
      "execution_count": 7,
      "outputs": [
        {
          "output_type": "execute_result",
          "data": {
            "text/plain": [
              "\"<START> this film was just brilliant casting location scenery story direction everyone's really suited the part they played and you could just imagine being there robert <UNK> is an amazing actor and now the same being director <UNK> father came from the same scottish island as myself so i loved the fact there was a real connection with this film the witty remarks throughout the film were great it was just brilliant so much that i bought the film as soon as it was released for <UNK> and would recommend it to everyone to watch and the fly fishing was amazing really cried at the end it was so sad and you know what they say if you cry at a film it must have been good and this definitely was also <UNK> to the two little boy's that played the <UNK> of norman and paul they were just brilliant children are often left out of the <UNK> list i think because the stars that play them all grown up are such a big profile for the whole film but these children are amazing and should be praised for what they have done don't you think the whole story was so lovely because it was true and was someone's life after all that was shared with us all\""
            ]
          },
          "metadata": {
            "tags": []
          },
          "execution_count": 7
        }
      ]
    },
    {
      "cell_type": "code",
      "metadata": {
        "id": "ayFVV6NXaLnX",
        "colab_type": "code",
        "colab": {}
      },
      "source": [
        "train_data = keras.preprocessing.sequence.pad_sequences(train_data,\n",
        "                                                        value=word_index[\"<PAD>\"],\n",
        "                                                        padding='post',\n",
        "                                                        maxlen=256)\n",
        "\n",
        "test_data = keras.preprocessing.sequence.pad_sequences(test_data,\n",
        "                                                       value=word_index[\"<PAD>\"],\n",
        "                                                       padding='post',\n",
        "                                                       maxlen=256)\n"
      ],
      "execution_count": 0,
      "outputs": []
    },
    {
      "cell_type": "code",
      "metadata": {
        "id": "Q3irBHAeaSrl",
        "colab_type": "code",
        "colab": {
          "base_uri": "https://localhost:8080/",
          "height": 34
        },
        "outputId": "d5fc761b-4c24-4e2d-e1d8-6f8acc505f94"
      },
      "source": [
        "len(train_data[0]), len(train_data[1])\n"
      ],
      "execution_count": 9,
      "outputs": [
        {
          "output_type": "execute_result",
          "data": {
            "text/plain": [
              "(256, 256)"
            ]
          },
          "metadata": {
            "tags": []
          },
          "execution_count": 9
        }
      ]
    },
    {
      "cell_type": "code",
      "metadata": {
        "id": "nLujfKMkaXtw",
        "colab_type": "code",
        "colab": {
          "base_uri": "https://localhost:8080/",
          "height": 340
        },
        "outputId": "a5cf9419-56a6-4f6c-badb-ed420f772e7b"
      },
      "source": [
        "print(train_data[0])\n"
      ],
      "execution_count": 10,
      "outputs": [
        {
          "output_type": "stream",
          "text": [
            "[   1   14   22   16   43  530  973 1622 1385   65  458 4468   66 3941\n",
            "    4  173   36  256    5   25  100   43  838  112   50  670    2    9\n",
            "   35  480  284    5  150    4  172  112  167    2  336  385   39    4\n",
            "  172 4536 1111   17  546   38   13  447    4  192   50   16    6  147\n",
            " 2025   19   14   22    4 1920 4613  469    4   22   71   87   12   16\n",
            "   43  530   38   76   15   13 1247    4   22   17  515   17   12   16\n",
            "  626   18    2    5   62  386   12    8  316    8  106    5    4 2223\n",
            " 5244   16  480   66 3785   33    4  130   12   16   38  619    5   25\n",
            "  124   51   36  135   48   25 1415   33    6   22   12  215   28   77\n",
            "   52    5   14  407   16   82    2    8    4  107  117 5952   15  256\n",
            "    4    2    7 3766    5  723   36   71   43  530  476   26  400  317\n",
            "   46    7    4    2 1029   13  104   88    4  381   15  297   98   32\n",
            " 2071   56   26  141    6  194 7486   18    4  226   22   21  134  476\n",
            "   26  480    5  144   30 5535   18   51   36   28  224   92   25  104\n",
            "    4  226   65   16   38 1334   88   12   16  283    5   16 4472  113\n",
            "  103   32   15   16 5345   19  178   32    0    0    0    0    0    0\n",
            "    0    0    0    0    0    0    0    0    0    0    0    0    0    0\n",
            "    0    0    0    0    0    0    0    0    0    0    0    0    0    0\n",
            "    0    0    0    0]\n"
          ],
          "name": "stdout"
        }
      ]
    },
    {
      "cell_type": "code",
      "metadata": {
        "id": "VDhrKHFZaltJ",
        "colab_type": "code",
        "colab": {
          "base_uri": "https://localhost:8080/",
          "height": 411
        },
        "outputId": "91578e03-0627-456f-cf82-7b70c237abf1"
      },
      "source": [
        "# input shape is the vocabulary count used for the movie reviews (10,000 words)\n",
        "vocab_size = 10000\n",
        "\n",
        "model = keras.Sequential()\n",
        "model.add(keras.layers.Embedding(vocab_size, 16))\n",
        "model.add(keras.layers.GlobalAveragePooling1D())\n",
        "\n",
        "model.add(keras.layers.Dense(16, activation=tf.nn.relu))\n",
        "model.add(keras.layers.Dense(1, activation=tf.nn.sigmoid))\n",
        "\n",
        "model.summary()\n"
      ],
      "execution_count": 11,
      "outputs": [
        {
          "output_type": "stream",
          "text": [
            "WARNING:tensorflow:From /usr/local/lib/python3.6/dist-packages/tensorflow/python/keras/initializers.py:119: calling RandomUniform.__init__ (from tensorflow.python.ops.init_ops) with dtype is deprecated and will be removed in a future version.\n",
            "Instructions for updating:\n",
            "Call initializer instance with the dtype argument instead of passing it to the constructor\n",
            "WARNING:tensorflow:From /usr/local/lib/python3.6/dist-packages/tensorflow/python/ops/init_ops.py:1251: calling VarianceScaling.__init__ (from tensorflow.python.ops.init_ops) with dtype is deprecated and will be removed in a future version.\n",
            "Instructions for updating:\n",
            "Call initializer instance with the dtype argument instead of passing it to the constructor\n",
            "Model: \"sequential\"\n",
            "_________________________________________________________________\n",
            "Layer (type)                 Output Shape              Param #   \n",
            "=================================================================\n",
            "embedding (Embedding)        (None, None, 16)          160000    \n",
            "_________________________________________________________________\n",
            "global_average_pooling1d (Gl (None, 16)                0         \n",
            "_________________________________________________________________\n",
            "dense (Dense)                (None, 16)                272       \n",
            "_________________________________________________________________\n",
            "dense_1 (Dense)              (None, 1)                 17        \n",
            "=================================================================\n",
            "Total params: 160,289\n",
            "Trainable params: 160,289\n",
            "Non-trainable params: 0\n",
            "_________________________________________________________________\n"
          ],
          "name": "stdout"
        }
      ]
    },
    {
      "cell_type": "code",
      "metadata": {
        "id": "43jJJl8pbNM6",
        "colab_type": "code",
        "colab": {
          "base_uri": "https://localhost:8080/",
          "height": 88
        },
        "outputId": "b6789840-5654-490d-9a01-e6e135e52697"
      },
      "source": [
        "model.compile(optimizer='adam',\n",
        "              loss='binary_crossentropy',\n",
        "              metrics=['acc'])\n"
      ],
      "execution_count": 12,
      "outputs": [
        {
          "output_type": "stream",
          "text": [
            "WARNING:tensorflow:From /usr/local/lib/python3.6/dist-packages/tensorflow/python/ops/nn_impl.py:180: add_dispatch_support.<locals>.wrapper (from tensorflow.python.ops.array_ops) is deprecated and will be removed in a future version.\n",
            "Instructions for updating:\n",
            "Use tf.where in 2.0, which has the same broadcast rule as np.where\n"
          ],
          "name": "stdout"
        }
      ]
    },
    {
      "cell_type": "code",
      "metadata": {
        "id": "8F866jSVbSsz",
        "colab_type": "code",
        "colab": {}
      },
      "source": [
        "x_val = train_data[:10000]\n",
        "partial_x_train = train_data[10000:]\n",
        "\n",
        "y_val = train_labels[:10000]\n",
        "partial_y_train = train_labels[10000:]\n"
      ],
      "execution_count": 0,
      "outputs": []
    },
    {
      "cell_type": "code",
      "metadata": {
        "id": "iq17CjUfbaMF",
        "colab_type": "code",
        "colab": {
          "base_uri": "https://localhost:8080/",
          "height": 1000
        },
        "outputId": "058fdfd1-a461-422c-eb62-58642fee489f"
      },
      "source": [
        "history = model.fit(partial_x_train,\n",
        "                    partial_y_train,\n",
        "                    epochs=40,\n",
        "                    batch_size=512,\n",
        "                    validation_data=(x_val, y_val),\n",
        "                    verbose=1)\n"
      ],
      "execution_count": 20,
      "outputs": [
        {
          "output_type": "stream",
          "text": [
            "Train on 15000 samples, validate on 10000 samples\n",
            "Epoch 1/40\n",
            "15000/15000 [==============================] - 0s 25us/sample - loss: 0.0891 - acc: 0.9780 - val_loss: 0.3145 - val_acc: 0.8831\n",
            "Epoch 2/40\n",
            "15000/15000 [==============================] - 0s 24us/sample - loss: 0.0853 - acc: 0.9783 - val_loss: 0.3185 - val_acc: 0.8812\n",
            "Epoch 3/40\n",
            "15000/15000 [==============================] - 0s 25us/sample - loss: 0.0822 - acc: 0.9797 - val_loss: 0.3217 - val_acc: 0.8821\n",
            "Epoch 4/40\n",
            "15000/15000 [==============================] - 0s 24us/sample - loss: 0.0790 - acc: 0.9818 - val_loss: 0.3261 - val_acc: 0.8800\n",
            "Epoch 5/40\n",
            "15000/15000 [==============================] - 0s 24us/sample - loss: 0.0761 - acc: 0.9819 - val_loss: 0.3297 - val_acc: 0.8817\n",
            "Epoch 6/40\n",
            "15000/15000 [==============================] - 0s 24us/sample - loss: 0.0729 - acc: 0.9831 - val_loss: 0.3360 - val_acc: 0.8768\n",
            "Epoch 7/40\n",
            "15000/15000 [==============================] - 0s 24us/sample - loss: 0.0704 - acc: 0.9839 - val_loss: 0.3384 - val_acc: 0.8782\n",
            "Epoch 8/40\n",
            "15000/15000 [==============================] - 0s 24us/sample - loss: 0.0674 - acc: 0.9847 - val_loss: 0.3420 - val_acc: 0.8793\n",
            "Epoch 9/40\n",
            "15000/15000 [==============================] - 0s 24us/sample - loss: 0.0650 - acc: 0.9862 - val_loss: 0.3473 - val_acc: 0.8772\n",
            "Epoch 10/40\n",
            "15000/15000 [==============================] - 0s 24us/sample - loss: 0.0622 - acc: 0.9870 - val_loss: 0.3511 - val_acc: 0.8785\n",
            "Epoch 11/40\n",
            "15000/15000 [==============================] - 0s 24us/sample - loss: 0.0599 - acc: 0.9877 - val_loss: 0.3561 - val_acc: 0.8773\n",
            "Epoch 12/40\n",
            "15000/15000 [==============================] - 0s 24us/sample - loss: 0.0577 - acc: 0.9887 - val_loss: 0.3643 - val_acc: 0.8739\n",
            "Epoch 13/40\n",
            "15000/15000 [==============================] - 0s 24us/sample - loss: 0.0558 - acc: 0.9889 - val_loss: 0.3665 - val_acc: 0.8758\n",
            "Epoch 14/40\n",
            "15000/15000 [==============================] - 0s 25us/sample - loss: 0.0531 - acc: 0.9895 - val_loss: 0.3707 - val_acc: 0.8768\n",
            "Epoch 15/40\n",
            "15000/15000 [==============================] - 0s 24us/sample - loss: 0.0511 - acc: 0.9905 - val_loss: 0.3753 - val_acc: 0.8769\n",
            "Epoch 16/40\n",
            "15000/15000 [==============================] - 0s 24us/sample - loss: 0.0490 - acc: 0.9914 - val_loss: 0.3828 - val_acc: 0.8728\n",
            "Epoch 17/40\n",
            "15000/15000 [==============================] - 0s 25us/sample - loss: 0.0468 - acc: 0.9915 - val_loss: 0.3855 - val_acc: 0.8762\n",
            "Epoch 18/40\n",
            "15000/15000 [==============================] - 0s 24us/sample - loss: 0.0454 - acc: 0.9924 - val_loss: 0.3933 - val_acc: 0.8730\n",
            "Epoch 19/40\n",
            "15000/15000 [==============================] - 0s 25us/sample - loss: 0.0433 - acc: 0.9928 - val_loss: 0.3961 - val_acc: 0.8753\n",
            "Epoch 20/40\n",
            "15000/15000 [==============================] - 0s 25us/sample - loss: 0.0415 - acc: 0.9931 - val_loss: 0.4016 - val_acc: 0.8744\n",
            "Epoch 21/40\n",
            "15000/15000 [==============================] - 0s 25us/sample - loss: 0.0398 - acc: 0.9935 - val_loss: 0.4069 - val_acc: 0.8744\n",
            "Epoch 22/40\n",
            "15000/15000 [==============================] - 0s 24us/sample - loss: 0.0381 - acc: 0.9940 - val_loss: 0.4120 - val_acc: 0.8743\n",
            "Epoch 23/40\n",
            "15000/15000 [==============================] - 0s 24us/sample - loss: 0.0366 - acc: 0.9947 - val_loss: 0.4183 - val_acc: 0.8724\n",
            "Epoch 24/40\n",
            "15000/15000 [==============================] - 0s 24us/sample - loss: 0.0351 - acc: 0.9952 - val_loss: 0.4233 - val_acc: 0.8726\n",
            "Epoch 25/40\n",
            "15000/15000 [==============================] - 0s 25us/sample - loss: 0.0338 - acc: 0.9949 - val_loss: 0.4311 - val_acc: 0.8718\n",
            "Epoch 26/40\n",
            "15000/15000 [==============================] - 0s 24us/sample - loss: 0.0328 - acc: 0.9953 - val_loss: 0.4347 - val_acc: 0.8719\n",
            "Epoch 27/40\n",
            "15000/15000 [==============================] - 0s 25us/sample - loss: 0.0310 - acc: 0.9960 - val_loss: 0.4397 - val_acc: 0.8718\n",
            "Epoch 28/40\n",
            "15000/15000 [==============================] - 0s 25us/sample - loss: 0.0297 - acc: 0.9963 - val_loss: 0.4459 - val_acc: 0.8705\n",
            "Epoch 29/40\n",
            "15000/15000 [==============================] - 0s 25us/sample - loss: 0.0289 - acc: 0.9966 - val_loss: 0.4518 - val_acc: 0.8705\n",
            "Epoch 30/40\n",
            "15000/15000 [==============================] - 0s 25us/sample - loss: 0.0280 - acc: 0.9965 - val_loss: 0.4582 - val_acc: 0.8712\n",
            "Epoch 31/40\n",
            "15000/15000 [==============================] - 0s 24us/sample - loss: 0.0265 - acc: 0.9972 - val_loss: 0.4642 - val_acc: 0.8683\n",
            "Epoch 32/40\n",
            "15000/15000 [==============================] - 0s 24us/sample - loss: 0.0255 - acc: 0.9971 - val_loss: 0.4686 - val_acc: 0.8686\n",
            "Epoch 33/40\n",
            "15000/15000 [==============================] - 0s 24us/sample - loss: 0.0245 - acc: 0.9973 - val_loss: 0.4747 - val_acc: 0.8689\n",
            "Epoch 34/40\n",
            "15000/15000 [==============================] - 0s 24us/sample - loss: 0.0234 - acc: 0.9975 - val_loss: 0.4793 - val_acc: 0.8687\n",
            "Epoch 35/40\n",
            "15000/15000 [==============================] - 0s 24us/sample - loss: 0.0223 - acc: 0.9977 - val_loss: 0.4847 - val_acc: 0.8679\n",
            "Epoch 36/40\n",
            "15000/15000 [==============================] - 0s 24us/sample - loss: 0.0216 - acc: 0.9978 - val_loss: 0.4912 - val_acc: 0.8680\n",
            "Epoch 37/40\n",
            "15000/15000 [==============================] - 0s 23us/sample - loss: 0.0206 - acc: 0.9981 - val_loss: 0.4979 - val_acc: 0.8661\n",
            "Epoch 38/40\n",
            "15000/15000 [==============================] - 0s 24us/sample - loss: 0.0199 - acc: 0.9979 - val_loss: 0.5019 - val_acc: 0.8670\n",
            "Epoch 39/40\n",
            "15000/15000 [==============================] - 0s 25us/sample - loss: 0.0192 - acc: 0.9983 - val_loss: 0.5074 - val_acc: 0.8671\n",
            "Epoch 40/40\n",
            "15000/15000 [==============================] - 0s 24us/sample - loss: 0.0184 - acc: 0.9987 - val_loss: 0.5130 - val_acc: 0.8663\n"
          ],
          "name": "stdout"
        }
      ]
    },
    {
      "cell_type": "code",
      "metadata": {
        "id": "I3urusilbp32",
        "colab_type": "code",
        "colab": {
          "base_uri": "https://localhost:8080/",
          "height": 51
        },
        "outputId": "2e0bd5ab-f8f3-4482-c12b-d4bf4e10e70d"
      },
      "source": [
        "results = model.evaluate(test_data, test_labels)\n",
        "\n",
        "print(results)\n"
      ],
      "execution_count": 21,
      "outputs": [
        {
          "output_type": "stream",
          "text": [
            "25000/25000 [==============================] - 1s 56us/sample - loss: 0.5466 - acc: 0.8552\n",
            "[0.5466402162337303, 0.85516]\n"
          ],
          "name": "stdout"
        }
      ]
    },
    {
      "cell_type": "code",
      "metadata": {
        "id": "tECxMsPzbvPk",
        "colab_type": "code",
        "colab": {
          "base_uri": "https://localhost:8080/",
          "height": 295
        },
        "outputId": "bca5ddf7-2ba3-487f-a941-f5a382aa3416"
      },
      "source": [
        "import matplotlib.pyplot as plt\n",
        "\n",
        "acc = history_dict['acc']\n",
        "val_acc = history_dict['val_acc']\n",
        "loss = history_dict['loss']\n",
        "val_loss = history_dict['val_loss']\n",
        "\n",
        "epochs = range(1, len(acc) + 1)\n",
        "\n",
        "# \"bo\" is for \"blue dot\"\n",
        "plt.plot(epochs, loss, 'bo', label='Training loss')\n",
        "# b is for \"solid blue line\"\n",
        "plt.plot(epochs, val_loss, 'b', label='Validation loss')\n",
        "plt.title('Training and validation loss')\n",
        "plt.xlabel('Epochs')\n",
        "plt.ylabel('Loss')\n",
        "plt.legend()\n",
        "\n",
        "plt.show()\n"
      ],
      "execution_count": 22,
      "outputs": [
        {
          "output_type": "display_data",
          "data": {
            "image/png": "[encoded data removed]",
            "text/plain": [
              "<Figure size 432x288 with 1 Axes>"
            ]
          },
          "metadata": {
            "tags": []
          }
        }
      ]
    },
    {
      "cell_type": "code",
      "metadata": {
        "id": "I18TbJ84dM3J",
        "colab_type": "code",
        "colab": {
          "base_uri": "https://localhost:8080/",
          "height": 295
        },
        "outputId": "9b1c0ddb-30a8-418c-a6a7-0d3935d5ed2f"
      },
      "source": [
        "plt.clf()   # clear figure\n",
        "\n",
        "plt.plot(epochs, acc, 'bo', label='Training acc')\n",
        "plt.plot(epochs, val_acc, 'b', label='Validation acc')\n",
        "plt.title('Training and validation accuracy')\n",
        "plt.xlabel('Epochs')\n",
        "plt.ylabel('Accuracy')\n",
        "plt.legend()\n",
        "\n",
        "plt.show()\n"
      ],
      "execution_count": 23,
      "outputs": [
        {
          "output_type": "display_data",
          "data": {
            "image/png": "[encoded data removed]",
            "text/plain": [
              "<Figure size 432x288 with 1 Axes>"
            ]
          },
          "metadata": {
            "tags": []
          }
        }
      ]
    }
  ]
}